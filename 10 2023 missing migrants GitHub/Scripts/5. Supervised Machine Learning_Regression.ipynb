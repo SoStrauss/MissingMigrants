{
 "cells": [
  {
   "cell_type": "markdown",
   "id": "0d1c44ab",
   "metadata": {},
   "source": [
    "## 5. Supervised Machine Learning: Regression\n",
    "\n",
    "## Contains:\n",
    "### 1. Importing libraries and data\n",
    "### 2. Data cleaning\n",
    "### 3. Data prep for regression analysis\n",
    "### 4. Regression analysis\n",
    "### Bonus: performance improvement after removing outliersm"
   ]
  },
  {
   "cell_type": "markdown",
   "id": "9b4e9283",
   "metadata": {},
   "source": [
    "## 1. Importing libraries and data "
   ]
  },
  {
   "cell_type": "code",
   "execution_count": 1,
   "id": "4b42b859",
   "metadata": {},
   "outputs": [],
   "source": [
    "import pandas as pd\n",
    "import numpy as np\n",
    "import seaborn as sns\n",
    "import matplotlib\n",
    "import matplotlib.pyplot as plt\n",
    "import os\n",
    "import sklearn\n",
    "from sklearn.model_selection import train_test_split \n",
    "from sklearn.linear_model import LinearRegression\n",
    "from sklearn.metrics import mean_squared_error, r2_score"
   ]
  },
  {
   "cell_type": "code",
   "execution_count": 2,
   "id": "15ada936",
   "metadata": {},
   "outputs": [],
   "source": [
    "# This option ensures that the graphs you create are displayed within the notebook without the need to \"call\" them specifically.\n",
    "\n",
    "%matplotlib inline"
   ]
  },
  {
   "cell_type": "code",
   "execution_count": 3,
   "id": "88071e40",
   "metadata": {},
   "outputs": [
    {
     "data": {
      "text/plain": [
       "'/Users/sophie/Desktop/CareerFoundry /10 2023 missing migrants'"
      ]
     },
     "execution_count": 3,
     "metadata": {},
     "output_type": "execute_result"
    }
   ],
   "source": [
    "# Define path\n",
    "\n",
    "path = r'/Users/sophie/Desktop/CareerFoundry /10 2023 missing migrants'\n",
    "path"
   ]
  },
  {
   "cell_type": "code",
   "execution_count": 4,
   "id": "1b4b6b57",
   "metadata": {},
   "outputs": [
    {
     "data": {
      "text/html": [
       "<div>\n",
       "<style scoped>\n",
       "    .dataframe tbody tr th:only-of-type {\n",
       "        vertical-align: middle;\n",
       "    }\n",
       "\n",
       "    .dataframe tbody tr th {\n",
       "        vertical-align: top;\n",
       "    }\n",
       "\n",
       "    .dataframe thead th {\n",
       "        text-align: right;\n",
       "    }\n",
       "</style>\n",
       "<table border=\"1\" class=\"dataframe\">\n",
       "  <thead>\n",
       "    <tr style=\"text-align: right;\">\n",
       "      <th></th>\n",
       "      <th>main_ID</th>\n",
       "      <th>incident_ID</th>\n",
       "      <th>inc_type</th>\n",
       "      <th>region_inc</th>\n",
       "      <th>website_date_new</th>\n",
       "      <th>month_num</th>\n",
       "      <th>year</th>\n",
       "      <th>tot_dead_miss</th>\n",
       "      <th>tot_migrants</th>\n",
       "      <th>tot_survive</th>\n",
       "      <th>...</th>\n",
       "      <th>country_origin</th>\n",
       "      <th>migration_route</th>\n",
       "      <th>loc_death</th>\n",
       "      <th>info_source</th>\n",
       "      <th>UNSD_geo_group</th>\n",
       "      <th>source_quality</th>\n",
       "      <th>inc_type_num</th>\n",
       "      <th>vict_per_incidents</th>\n",
       "      <th>coordinates</th>\n",
       "      <th>continent</th>\n",
       "    </tr>\n",
       "  </thead>\n",
       "  <tbody>\n",
       "    <tr>\n",
       "      <th>0</th>\n",
       "      <td>2014.MMP00001</td>\n",
       "      <td>2014.MMP00001</td>\n",
       "      <td>Incident</td>\n",
       "      <td>North America</td>\n",
       "      <td>2014-01-06</td>\n",
       "      <td>1</td>\n",
       "      <td>2014</td>\n",
       "      <td>1</td>\n",
       "      <td>1</td>\n",
       "      <td>0</td>\n",
       "      <td>...</td>\n",
       "      <td>Guatemala</td>\n",
       "      <td>US-Mexico border crossing</td>\n",
       "      <td>Pima Country Office of the Medical Examiner ju...</td>\n",
       "      <td>Pima County Office of the Medical Examiner (PC...</td>\n",
       "      <td>Northern America</td>\n",
       "      <td>5</td>\n",
       "      <td>1</td>\n",
       "      <td>1-4</td>\n",
       "      <td>31.650259, -110.366453</td>\n",
       "      <td>North America</td>\n",
       "    </tr>\n",
       "    <tr>\n",
       "      <th>1</th>\n",
       "      <td>2014.MMP00002</td>\n",
       "      <td>2014.MMP00002</td>\n",
       "      <td>Incident</td>\n",
       "      <td>North America</td>\n",
       "      <td>2014-01-12</td>\n",
       "      <td>1</td>\n",
       "      <td>2014</td>\n",
       "      <td>1</td>\n",
       "      <td>1</td>\n",
       "      <td>0</td>\n",
       "      <td>...</td>\n",
       "      <td>Unknown</td>\n",
       "      <td>US-Mexico border crossing</td>\n",
       "      <td>Pima Country Office of the Medical Examiner ju...</td>\n",
       "      <td>Pima County Office of the Medical Examiner (PC...</td>\n",
       "      <td>Northern America</td>\n",
       "      <td>5</td>\n",
       "      <td>1</td>\n",
       "      <td>1-4</td>\n",
       "      <td>31.59713, -111.73756</td>\n",
       "      <td>North America</td>\n",
       "    </tr>\n",
       "    <tr>\n",
       "      <th>2</th>\n",
       "      <td>2014.MMP00003</td>\n",
       "      <td>2014.MMP00003</td>\n",
       "      <td>Incident</td>\n",
       "      <td>North America</td>\n",
       "      <td>2014-01-14</td>\n",
       "      <td>1</td>\n",
       "      <td>2014</td>\n",
       "      <td>1</td>\n",
       "      <td>1</td>\n",
       "      <td>0</td>\n",
       "      <td>...</td>\n",
       "      <td>Unknown</td>\n",
       "      <td>US-Mexico border crossing</td>\n",
       "      <td>Pima Country Office of the Medical Examiner ju...</td>\n",
       "      <td>Pima County Office of the Medical Examiner (PC...</td>\n",
       "      <td>Northern America</td>\n",
       "      <td>5</td>\n",
       "      <td>1</td>\n",
       "      <td>1-4</td>\n",
       "      <td>31.94026, -113.01125</td>\n",
       "      <td>North America</td>\n",
       "    </tr>\n",
       "    <tr>\n",
       "      <th>3</th>\n",
       "      <td>2014.MMP00004</td>\n",
       "      <td>2014.MMP00004</td>\n",
       "      <td>Incident</td>\n",
       "      <td>North America</td>\n",
       "      <td>2014-01-16</td>\n",
       "      <td>1</td>\n",
       "      <td>2014</td>\n",
       "      <td>1</td>\n",
       "      <td>1</td>\n",
       "      <td>0</td>\n",
       "      <td>...</td>\n",
       "      <td>Mexico</td>\n",
       "      <td>US-Mexico border crossing</td>\n",
       "      <td>near Douglas, Arizona, USA</td>\n",
       "      <td>Ministry of Foreign Affairs Mexico, Pima Count...</td>\n",
       "      <td>Northern America</td>\n",
       "      <td>5</td>\n",
       "      <td>1</td>\n",
       "      <td>1-4</td>\n",
       "      <td>31.506777, -109.315632</td>\n",
       "      <td>North America</td>\n",
       "    </tr>\n",
       "    <tr>\n",
       "      <th>4</th>\n",
       "      <td>2014.MMP00005</td>\n",
       "      <td>2014.MMP00005</td>\n",
       "      <td>Incident</td>\n",
       "      <td>Europe</td>\n",
       "      <td>2014-01-16</td>\n",
       "      <td>1</td>\n",
       "      <td>2014</td>\n",
       "      <td>1</td>\n",
       "      <td>3</td>\n",
       "      <td>2</td>\n",
       "      <td>...</td>\n",
       "      <td>Sudan</td>\n",
       "      <td>Unknown</td>\n",
       "      <td>Border between Russia and Estonia</td>\n",
       "      <td>EUBusiness (Agence France-Presse)</td>\n",
       "      <td>Northern Europe</td>\n",
       "      <td>1</td>\n",
       "      <td>1</td>\n",
       "      <td>1-4</td>\n",
       "      <td>59.1551, 28.0</td>\n",
       "      <td>Europe</td>\n",
       "    </tr>\n",
       "  </tbody>\n",
       "</table>\n",
       "<p>5 rows × 26 columns</p>\n",
       "</div>"
      ],
      "text/plain": [
       "         main_ID    incident_ID  inc_type     region_inc website_date_new  \\\n",
       "0  2014.MMP00001  2014.MMP00001  Incident  North America       2014-01-06   \n",
       "1  2014.MMP00002  2014.MMP00002  Incident  North America       2014-01-12   \n",
       "2  2014.MMP00003  2014.MMP00003  Incident  North America       2014-01-14   \n",
       "3  2014.MMP00004  2014.MMP00004  Incident  North America       2014-01-16   \n",
       "4  2014.MMP00005  2014.MMP00005  Incident         Europe       2014-01-16   \n",
       "\n",
       "   month_num  year  tot_dead_miss  tot_migrants  tot_survive  ...  \\\n",
       "0          1  2014              1             1            0  ...   \n",
       "1          1  2014              1             1            0  ...   \n",
       "2          1  2014              1             1            0  ...   \n",
       "3          1  2014              1             1            0  ...   \n",
       "4          1  2014              1             3            2  ...   \n",
       "\n",
       "   country_origin            migration_route  \\\n",
       "0       Guatemala  US-Mexico border crossing   \n",
       "1         Unknown  US-Mexico border crossing   \n",
       "2         Unknown  US-Mexico border crossing   \n",
       "3          Mexico  US-Mexico border crossing   \n",
       "4           Sudan                    Unknown   \n",
       "\n",
       "                                           loc_death  \\\n",
       "0  Pima Country Office of the Medical Examiner ju...   \n",
       "1  Pima Country Office of the Medical Examiner ju...   \n",
       "2  Pima Country Office of the Medical Examiner ju...   \n",
       "3                         near Douglas, Arizona, USA   \n",
       "4                  Border between Russia and Estonia   \n",
       "\n",
       "                                         info_source    UNSD_geo_group  \\\n",
       "0  Pima County Office of the Medical Examiner (PC...  Northern America   \n",
       "1  Pima County Office of the Medical Examiner (PC...  Northern America   \n",
       "2  Pima County Office of the Medical Examiner (PC...  Northern America   \n",
       "3  Ministry of Foreign Affairs Mexico, Pima Count...  Northern America   \n",
       "4                  EUBusiness (Agence France-Presse)   Northern Europe   \n",
       "\n",
       "  source_quality inc_type_num vict_per_incidents             coordinates  \\\n",
       "0              5            1                1-4  31.650259, -110.366453   \n",
       "1              5            1                1-4    31.59713, -111.73756   \n",
       "2              5            1                1-4    31.94026, -113.01125   \n",
       "3              5            1                1-4  31.506777, -109.315632   \n",
       "4              1            1                1-4           59.1551, 28.0   \n",
       "\n",
       "       continent  \n",
       "0  North America  \n",
       "1  North America  \n",
       "2  North America  \n",
       "3  North America  \n",
       "4         Europe  \n",
       "\n",
       "[5 rows x 26 columns]"
      ]
     },
     "execution_count": 4,
     "metadata": {},
     "output_type": "execute_result"
    }
   ],
   "source": [
    "df_mm = pd.read_pickle(os.path.join(path, 'Data', 'prepared data', 'df_mm.pkl'))\n",
    "df_mm.head()"
   ]
  },
  {
   "cell_type": "code",
   "execution_count": 5,
   "id": "5889baa1",
   "metadata": {},
   "outputs": [
    {
     "data": {
      "text/plain": [
       "(13493, 26)"
      ]
     },
     "execution_count": 5,
     "metadata": {},
     "output_type": "execute_result"
    }
   ],
   "source": [
    "df_mm.shape"
   ]
  },
  {
   "cell_type": "markdown",
   "id": "521f5c2d",
   "metadata": {},
   "source": [
    "## 2. Data cleaning"
   ]
  },
  {
   "cell_type": "code",
   "execution_count": 6,
   "id": "b9d8bf3c",
   "metadata": {},
   "outputs": [
    {
     "data": {
      "text/html": [
       "<div>\n",
       "<style scoped>\n",
       "    .dataframe tbody tr th:only-of-type {\n",
       "        vertical-align: middle;\n",
       "    }\n",
       "\n",
       "    .dataframe tbody tr th {\n",
       "        vertical-align: top;\n",
       "    }\n",
       "\n",
       "    .dataframe thead th {\n",
       "        text-align: right;\n",
       "    }\n",
       "</style>\n",
       "<table border=\"1\" class=\"dataframe\">\n",
       "  <thead>\n",
       "    <tr style=\"text-align: right;\">\n",
       "      <th></th>\n",
       "      <th>website_date_new</th>\n",
       "      <th>month_num</th>\n",
       "      <th>year</th>\n",
       "      <th>tot_dead_miss</th>\n",
       "      <th>tot_migrants</th>\n",
       "      <th>tot_survive</th>\n",
       "      <th>identified_demogr</th>\n",
       "      <th>unidentified_demogr</th>\n",
       "      <th>latitude</th>\n",
       "      <th>longitude</th>\n",
       "      <th>source_quality</th>\n",
       "      <th>inc_type_num</th>\n",
       "    </tr>\n",
       "  </thead>\n",
       "  <tbody>\n",
       "    <tr>\n",
       "      <th>count</th>\n",
       "      <td>13493</td>\n",
       "      <td>13493.000000</td>\n",
       "      <td>13493.000000</td>\n",
       "      <td>13493.000000</td>\n",
       "      <td>13493.000000</td>\n",
       "      <td>13493.000000</td>\n",
       "      <td>13493.000000</td>\n",
       "      <td>13493.000000</td>\n",
       "      <td>13493.000000</td>\n",
       "      <td>13493.000000</td>\n",
       "      <td>13493.000000</td>\n",
       "      <td>13493.000000</td>\n",
       "    </tr>\n",
       "    <tr>\n",
       "      <th>mean</th>\n",
       "      <td>2019-09-17 14:34:35.209368064</td>\n",
       "      <td>6.684355</td>\n",
       "      <td>2019.197510</td>\n",
       "      <td>4.389461</td>\n",
       "      <td>10.878826</td>\n",
       "      <td>6.489365</td>\n",
       "      <td>1.813829</td>\n",
       "      <td>2.575632</td>\n",
       "      <td>27.144641</td>\n",
       "      <td>-17.913633</td>\n",
       "      <td>3.264063</td>\n",
       "      <td>1.027199</td>\n",
       "    </tr>\n",
       "    <tr>\n",
       "      <th>min</th>\n",
       "      <td>2014-01-02 00:00:00</td>\n",
       "      <td>1.000000</td>\n",
       "      <td>2014.000000</td>\n",
       "      <td>1.000000</td>\n",
       "      <td>1.000000</td>\n",
       "      <td>0.000000</td>\n",
       "      <td>0.000000</td>\n",
       "      <td>-87.000000</td>\n",
       "      <td>-37.462916</td>\n",
       "      <td>-144.774250</td>\n",
       "      <td>1.000000</td>\n",
       "      <td>1.000000</td>\n",
       "    </tr>\n",
       "    <tr>\n",
       "      <th>25%</th>\n",
       "      <td>2017-10-08 00:00:00</td>\n",
       "      <td>4.000000</td>\n",
       "      <td>2017.000000</td>\n",
       "      <td>1.000000</td>\n",
       "      <td>1.000000</td>\n",
       "      <td>0.000000</td>\n",
       "      <td>1.000000</td>\n",
       "      <td>0.000000</td>\n",
       "      <td>22.056701</td>\n",
       "      <td>-98.454803</td>\n",
       "      <td>2.000000</td>\n",
       "      <td>1.000000</td>\n",
       "    </tr>\n",
       "    <tr>\n",
       "      <th>50%</th>\n",
       "      <td>2019-10-05 00:00:00</td>\n",
       "      <td>7.000000</td>\n",
       "      <td>2019.000000</td>\n",
       "      <td>1.000000</td>\n",
       "      <td>1.000000</td>\n",
       "      <td>0.000000</td>\n",
       "      <td>1.000000</td>\n",
       "      <td>0.000000</td>\n",
       "      <td>30.719405</td>\n",
       "      <td>11.140718</td>\n",
       "      <td>4.000000</td>\n",
       "      <td>1.000000</td>\n",
       "    </tr>\n",
       "    <tr>\n",
       "      <th>75%</th>\n",
       "      <td>2021-11-30 00:00:00</td>\n",
       "      <td>9.000000</td>\n",
       "      <td>2021.000000</td>\n",
       "      <td>2.000000</td>\n",
       "      <td>3.000000</td>\n",
       "      <td>0.000000</td>\n",
       "      <td>1.000000</td>\n",
       "      <td>1.000000</td>\n",
       "      <td>33.071990</td>\n",
       "      <td>27.311734</td>\n",
       "      <td>4.000000</td>\n",
       "      <td>1.000000</td>\n",
       "    </tr>\n",
       "    <tr>\n",
       "      <th>max</th>\n",
       "      <td>2023-10-17 00:00:00</td>\n",
       "      <td>12.000000</td>\n",
       "      <td>2023.000000</td>\n",
       "      <td>1022.000000</td>\n",
       "      <td>1952.000000</td>\n",
       "      <td>1950.000000</td>\n",
       "      <td>250.000000</td>\n",
       "      <td>1022.000000</td>\n",
       "      <td>66.929981</td>\n",
       "      <td>138.086033</td>\n",
       "      <td>5.000000</td>\n",
       "      <td>2.000000</td>\n",
       "    </tr>\n",
       "    <tr>\n",
       "      <th>std</th>\n",
       "      <td>NaN</td>\n",
       "      <td>3.340813</td>\n",
       "      <td>2.482202</td>\n",
       "      <td>19.662386</td>\n",
       "      <td>48.698793</td>\n",
       "      <td>41.738181</td>\n",
       "      <td>5.952016</td>\n",
       "      <td>18.163062</td>\n",
       "      <td>11.370606</td>\n",
       "      <td>65.371556</td>\n",
       "      <td>1.371919</td>\n",
       "      <td>0.162670</td>\n",
       "    </tr>\n",
       "  </tbody>\n",
       "</table>\n",
       "</div>"
      ],
      "text/plain": [
       "                    website_date_new     month_num          year  \\\n",
       "count                          13493  13493.000000  13493.000000   \n",
       "mean   2019-09-17 14:34:35.209368064      6.684355   2019.197510   \n",
       "min              2014-01-02 00:00:00      1.000000   2014.000000   \n",
       "25%              2017-10-08 00:00:00      4.000000   2017.000000   \n",
       "50%              2019-10-05 00:00:00      7.000000   2019.000000   \n",
       "75%              2021-11-30 00:00:00      9.000000   2021.000000   \n",
       "max              2023-10-17 00:00:00     12.000000   2023.000000   \n",
       "std                              NaN      3.340813      2.482202   \n",
       "\n",
       "       tot_dead_miss  tot_migrants   tot_survive  identified_demogr  \\\n",
       "count   13493.000000  13493.000000  13493.000000       13493.000000   \n",
       "mean        4.389461     10.878826      6.489365           1.813829   \n",
       "min         1.000000      1.000000      0.000000           0.000000   \n",
       "25%         1.000000      1.000000      0.000000           1.000000   \n",
       "50%         1.000000      1.000000      0.000000           1.000000   \n",
       "75%         2.000000      3.000000      0.000000           1.000000   \n",
       "max      1022.000000   1952.000000   1950.000000         250.000000   \n",
       "std        19.662386     48.698793     41.738181           5.952016   \n",
       "\n",
       "       unidentified_demogr      latitude     longitude  source_quality  \\\n",
       "count         13493.000000  13493.000000  13493.000000    13493.000000   \n",
       "mean              2.575632     27.144641    -17.913633        3.264063   \n",
       "min             -87.000000    -37.462916   -144.774250        1.000000   \n",
       "25%               0.000000     22.056701    -98.454803        2.000000   \n",
       "50%               0.000000     30.719405     11.140718        4.000000   \n",
       "75%               1.000000     33.071990     27.311734        4.000000   \n",
       "max            1022.000000     66.929981    138.086033        5.000000   \n",
       "std              18.163062     11.370606     65.371556        1.371919   \n",
       "\n",
       "       inc_type_num  \n",
       "count  13493.000000  \n",
       "mean       1.027199  \n",
       "min        1.000000  \n",
       "25%        1.000000  \n",
       "50%        1.000000  \n",
       "75%        1.000000  \n",
       "max        2.000000  \n",
       "std        0.162670  "
      ]
     },
     "execution_count": 6,
     "metadata": {},
     "output_type": "execute_result"
    }
   ],
   "source": [
    "# Check inconsistencies\n",
    "df_mm.describe()"
   ]
  },
  {
   "cell_type": "code",
   "execution_count": 7,
   "id": "a21e1b95",
   "metadata": {},
   "outputs": [
    {
     "data": {
      "text/plain": [
       "main_ID                0\n",
       "incident_ID            0\n",
       "inc_type               0\n",
       "region_inc             0\n",
       "website_date_new       0\n",
       "month_num              0\n",
       "year                   0\n",
       "tot_dead_miss          0\n",
       "tot_migrants           0\n",
       "tot_survive            0\n",
       "identified_demogr      0\n",
       "unidentified_demogr    0\n",
       "latitude               0\n",
       "longitude              0\n",
       "reg_origin             0\n",
       "cause_death            0\n",
       "country_origin         0\n",
       "migration_route        0\n",
       "loc_death              0\n",
       "info_source            0\n",
       "UNSD_geo_group         0\n",
       "source_quality         0\n",
       "inc_type_num           0\n",
       "vict_per_incidents     0\n",
       "coordinates            0\n",
       "continent              0\n",
       "dtype: int64"
      ]
     },
     "execution_count": 7,
     "metadata": {},
     "output_type": "execute_result"
    }
   ],
   "source": [
    "# Check for missing values\n",
    "\n",
    "df_mm.isnull().sum()\n",
    "\n",
    "# No missing values to handle"
   ]
  },
  {
   "cell_type": "code",
   "execution_count": 8,
   "id": "b4ae084d",
   "metadata": {},
   "outputs": [
    {
     "data": {
      "text/plain": [
       "(13493,)"
      ]
     },
     "execution_count": 8,
     "metadata": {},
     "output_type": "execute_result"
    }
   ],
   "source": [
    "# Duplicates check\n",
    "\n",
    "dups = df_mm.duplicated()\n",
    "dups.shape # No dups"
   ]
  },
  {
   "cell_type": "code",
   "execution_count": 9,
   "id": "71e91975",
   "metadata": {},
   "outputs": [
    {
     "name": "stderr",
     "output_type": "stream",
     "text": [
      "/var/folders/7f/g3kqhl2s2wd2fd054p87pc_w0000gn/T/ipykernel_94623/2856196323.py:3: UserWarning: \n",
      "\n",
      "`distplot` is a deprecated function and will be removed in seaborn v0.14.0.\n",
      "\n",
      "Please adapt your code to use either `displot` (a figure-level function with\n",
      "similar flexibility) or `histplot` (an axes-level function for histograms).\n",
      "\n",
      "For a guide to updating your code to use the new functions, please see\n",
      "https://gist.github.com/mwaskom/de44147ed2974457ad6372750bbe5751\n",
      "\n",
      "  sns.distplot(df_mm['tot_dead_miss'], bins=10) # Shows extreme values\n"
     ]
    },
    {
     "data": {
      "text/plain": [
       "<Axes: xlabel='tot_dead_miss', ylabel='Density'>"
      ]
     },
     "execution_count": 9,
     "metadata": {},
     "output_type": "execute_result"
    },
    {
     "data": {
      "image/png": "[encoded data removed]",
      "text/plain": [
       "<Figure size 640x480 with 1 Axes>"
      ]
     },
     "metadata": {},
     "output_type": "display_data"
    }
   ],
   "source": [
    "# Extreme values check\n",
    "\n",
    "sns.distplot(df_mm['tot_dead_miss'], bins=10) # Shows extreme values"
   ]
  },
  {
   "cell_type": "code",
   "execution_count": 10,
   "id": "fd059b06",
   "metadata": {},
   "outputs": [
    {
     "data": {
      "text/plain": [
       "<Axes: xlabel='vict_per_incidents'>"
      ]
     },
     "execution_count": 10,
     "metadata": {},
     "output_type": "execute_result"
    },
    {
     "data": {
      "image/png": "[encoded data removed]",
      "text/plain": [
       "<Figure size 640x480 with 1 Axes>"
      ]
     },
     "metadata": {},
     "output_type": "display_data"
    }
   ],
   "source": [
    "# Extreme values check\n",
    "\n",
    "# Create a bar chart of vict_per_incident to check outliers\n",
    "\n",
    "df_mm['vict_per_incidents'].value_counts().plot.bar()"
   ]
  },
  {
   "cell_type": "code",
   "execution_count": 11,
   "id": "122c3f80",
   "metadata": {},
   "outputs": [],
   "source": [
    "# For the purpose of conducting a regression analyses, exclude incidents with more than 100 victims per incident\n",
    "\n",
    "# Clean the extreme values from the \"tot_dead_miss\" variable observed during the consistency checks.\n",
    "\n",
    "df_cl = df_mm[df_mm['tot_dead_miss'] <=100] "
   ]
  },
  {
   "cell_type": "code",
   "execution_count": 12,
   "id": "c2b7e8a5",
   "metadata": {},
   "outputs": [
    {
     "data": {
      "text/plain": [
       "(13436, 26)"
      ]
     },
     "execution_count": 12,
     "metadata": {},
     "output_type": "execute_result"
    }
   ],
   "source": [
    "df_cl.shape"
   ]
  },
  {
   "cell_type": "code",
   "execution_count": 13,
   "id": "f67ca14e",
   "metadata": {},
   "outputs": [
    {
     "name": "stderr",
     "output_type": "stream",
     "text": [
      "/var/folders/7f/g3kqhl2s2wd2fd054p87pc_w0000gn/T/ipykernel_94623/2660834277.py:3: UserWarning: \n",
      "\n",
      "`distplot` is a deprecated function and will be removed in seaborn v0.14.0.\n",
      "\n",
      "Please adapt your code to use either `displot` (a figure-level function with\n",
      "similar flexibility) or `histplot` (an axes-level function for histograms).\n",
      "\n",
      "For a guide to updating your code to use the new functions, please see\n",
      "https://gist.github.com/mwaskom/de44147ed2974457ad6372750bbe5751\n",
      "\n",
      "  sns.distplot(df_mm['source_quality'], bins=10) # Shows extreme values\n"
     ]
    },
    {
     "data": {
      "text/plain": [
       "<Axes: xlabel='source_quality', ylabel='Density'>"
      ]
     },
     "execution_count": 13,
     "metadata": {},
     "output_type": "execute_result"
    },
    {
     "data": {
      "image/png": "[encoded data removed]",
      "text/plain": [
       "<Figure size 640x480 with 1 Axes>"
      ]
     },
     "metadata": {},
     "output_type": "display_data"
    }
   ],
   "source": [
    "# Extreme values check\n",
    "\n",
    "sns.distplot(df_mm['source_quality'], bins=10) # Shows extreme values\n",
    "\n",
    "# Some of the outliers in the high values may need to be removed, but let's try without doing so first."
   ]
  },
  {
   "cell_type": "code",
   "execution_count": 14,
   "id": "6e0120c5",
   "metadata": {},
   "outputs": [
    {
     "data": {
      "text/plain": [
       "3.4883149746948496"
      ]
     },
     "execution_count": 14,
     "metadata": {},
     "output_type": "execute_result"
    }
   ],
   "source": [
    "df_cl['tot_dead_miss'].mean() # Check the mean"
   ]
  },
  {
   "cell_type": "code",
   "execution_count": 15,
   "id": "cf276a64",
   "metadata": {},
   "outputs": [
    {
     "data": {
      "text/plain": [
       "1.0"
      ]
     },
     "execution_count": 15,
     "metadata": {},
     "output_type": "execute_result"
    }
   ],
   "source": [
    "df_cl['tot_dead_miss'].median() # Check the median"
   ]
  },
  {
   "cell_type": "code",
   "execution_count": 16,
   "id": "7a1ed514",
   "metadata": {},
   "outputs": [
    {
     "data": {
      "text/plain": [
       "100"
      ]
     },
     "execution_count": 16,
     "metadata": {},
     "output_type": "execute_result"
    }
   ],
   "source": [
    "df_cl['tot_dead_miss'].max() # Check the max"
   ]
  },
  {
   "cell_type": "code",
   "execution_count": 17,
   "id": "93616b3f",
   "metadata": {},
   "outputs": [
    {
     "data": {
      "text/plain": [
       "1.7820779994045848"
      ]
     },
     "execution_count": 17,
     "metadata": {},
     "output_type": "execute_result"
    }
   ],
   "source": [
    "df_cl['unidentified_demogr'].mean() # Check the mean"
   ]
  },
  {
   "cell_type": "code",
   "execution_count": 18,
   "id": "8c854c4c",
   "metadata": {},
   "outputs": [
    {
     "data": {
      "text/plain": [
       "0.0"
      ]
     },
     "execution_count": 18,
     "metadata": {},
     "output_type": "execute_result"
    }
   ],
   "source": [
    "df_cl['unidentified_demogr'].median() # Check the median"
   ]
  },
  {
   "cell_type": "code",
   "execution_count": 19,
   "id": "7400b159",
   "metadata": {},
   "outputs": [
    {
     "data": {
      "text/plain": [
       "-87"
      ]
     },
     "execution_count": 19,
     "metadata": {},
     "output_type": "execute_result"
    }
   ],
   "source": [
    "df_cl['unidentified_demogr'].min() # Check the min"
   ]
  },
  {
   "cell_type": "code",
   "execution_count": 20,
   "id": "40d0b304",
   "metadata": {},
   "outputs": [
    {
     "name": "stdout",
     "output_type": "stream",
     "text": [
      "             main_ID  tot_dead_miss  identified_demogr  unidentified_demogr\n",
      "14     2014.MMP00015              1                  2                   -1\n",
      "15     2014.MMP00016              1                  2                   -1\n",
      "35     2014.MMP00036              1                  2                   -1\n",
      "75     2014.MMP00077              1                  2                   -1\n",
      "88     2014.MMP00090              1                  2                   -1\n",
      "...              ...            ...                ...                  ...\n",
      "13116   2023.MMP0670              2                 11                   -9\n",
      "13242   2023.MMP0798              6                  7                   -1\n",
      "13262   2023.MMP0818              1                  2                   -1\n",
      "13263   2023.MMP0819              1                  2                   -1\n",
      "13331   2023.MMP0887              4                  7                   -3\n",
      "\n",
      "[926 rows x 4 columns]\n"
     ]
    }
   ],
   "source": [
    "# Filter rows where 'unidentified_demogr' is negative\n",
    "negative_demogr_rows = df_mm[df_mm['unidentified_demogr'] < 0]\n",
    "\n",
    "selected_columns = negative_demogr_rows[['main_ID', 'tot_dead_miss', 'identified_demogr', 'unidentified_demogr']]\n",
    "\n",
    "# Print the selected columns\n",
    "print(selected_columns)"
   ]
  },
  {
   "cell_type": "markdown",
   "id": "422f4687",
   "metadata": {},
   "source": [
    "#### Inconsistency! In 926 cases, the number of females and or males and or children is > the total number of deaths and missings. These cases could be excluded because we have no explanation here about which number is more correct (identified demographics or deaths and missings total). "
   ]
  },
  {
   "cell_type": "code",
   "execution_count": 21,
   "id": "8c07f2f0",
   "metadata": {},
   "outputs": [],
   "source": [
    "# Create a new DataFrame excluding rows with negative 'unidentified_demogr'\n",
    "new_df = df_cl[df_cl['unidentified_demogr'] >= 0]"
   ]
  },
  {
   "cell_type": "code",
   "execution_count": 22,
   "id": "1c2674f8",
   "metadata": {},
   "outputs": [
    {
     "data": {
      "text/plain": [
       "(12511, 26)"
      ]
     },
     "execution_count": 22,
     "metadata": {},
     "output_type": "execute_result"
    }
   ],
   "source": [
    "new_df.shape"
   ]
  },
  {
   "cell_type": "markdown",
   "id": "2586a8dd",
   "metadata": {},
   "source": [
    "## 3. Data prep for regression analysis "
   ]
  },
  {
   "cell_type": "code",
   "execution_count": 23,
   "id": "ec29d514",
   "metadata": {},
   "outputs": [
    {
     "data": {
      "image/png": "[encoded data removed]",
      "text/plain": [
       "<Figure size 640x480 with 1 Axes>"
      ]
     },
     "metadata": {},
     "output_type": "display_data"
    }
   ],
   "source": [
    "# Create a scatterplot using matplotlib for another look at how the chosen variables plot against each other.\n",
    "\n",
    "new_df.plot(x = 'tot_dead_miss', y='source_quality',style='o') # The style option creates a scatterplot; without it, we only have lines.\n",
    "plt.title('Number of deads and missings per incident vs. source quality')  \n",
    "plt.xlabel('N deads and missings')  \n",
    "plt.ylabel('Source quality')  \n",
    "plt.show()"
   ]
  },
  {
   "cell_type": "markdown",
   "id": "c260adc0",
   "metadata": {},
   "source": [
    "#### My initial hypothesis: If numbers of deaths and missings increase, then the source quality is better.\n",
    "This is not suited for a linear regression, because my outcome variable is categorical."
   ]
  },
  {
   "cell_type": "code",
   "execution_count": 24,
   "id": "efec9aa5",
   "metadata": {},
   "outputs": [
    {
     "data": {
      "image/png": "[encoded data removed]",
      "text/plain": [
       "<Figure size 640x480 with 1 Axes>"
      ]
     },
     "metadata": {},
     "output_type": "display_data"
    }
   ],
   "source": [
    "# Create a scatterplot using matplotlib for another look at how the chosen variables plot against each other.\n",
    "\n",
    "new_df.plot(x = 'tot_dead_miss', y='unidentified_demogr',style='o') # The style option creates a scatterplot; without it, we only have lines.\n",
    "plt.title('Number of deads and missings per incident vs. unidentified demographics')  \n",
    "plt.xlabel('N deads and missings')  \n",
    "plt.ylabel('Unidentified demographics')  \n",
    "plt.show()"
   ]
  },
  {
   "cell_type": "markdown",
   "id": "89cd5323",
   "metadata": {},
   "source": [
    "#### Hypothesis: The higher the number of deaths and missings per incident, the less victims are identified in terms of demographics (female, male, children) or: the more victims are unidentified."
   ]
  },
  {
   "cell_type": "code",
   "execution_count": 25,
   "id": "2028841b",
   "metadata": {},
   "outputs": [],
   "source": [
    "# Reshape the variables into NumPy arrays and put them into separate objects.\n",
    "\n",
    "X = new_df['tot_dead_miss'].values.reshape(-1,1)\n",
    "y = new_df['unidentified_demogr'].values.reshape(-1,1)"
   ]
  },
  {
   "cell_type": "code",
   "execution_count": 26,
   "id": "b0c947ca",
   "metadata": {},
   "outputs": [
    {
     "data": {
      "text/plain": [
       "array([[1],\n",
       "       [1],\n",
       "       [1],\n",
       "       ...,\n",
       "       [2],\n",
       "       [1],\n",
       "       [1]])"
      ]
     },
     "execution_count": 26,
     "metadata": {},
     "output_type": "execute_result"
    }
   ],
   "source": [
    "X"
   ]
  },
  {
   "cell_type": "code",
   "execution_count": 27,
   "id": "12ecb1bd",
   "metadata": {},
   "outputs": [
    {
     "data": {
      "text/plain": [
       "array([[0],\n",
       "       [1],\n",
       "       [1],\n",
       "       ...,\n",
       "       [0],\n",
       "       [1],\n",
       "       [0]])"
      ]
     },
     "execution_count": 27,
     "metadata": {},
     "output_type": "execute_result"
    }
   ],
   "source": [
    "y"
   ]
  },
  {
   "cell_type": "code",
   "execution_count": 28,
   "id": "6cda9ceb",
   "metadata": {},
   "outputs": [],
   "source": [
    "# Split data into a training set and a test set (0.3 --> 30% of the data in training set, 70% in test set).\n",
    "\n",
    "X_train, X_test, y_train, y_test = train_test_split(X, y, test_size=0.3, random_state=0)"
   ]
  },
  {
   "cell_type": "markdown",
   "id": "0bd1871a",
   "metadata": {},
   "source": [
    "## 4. Regression Analysis "
   ]
  },
  {
   "cell_type": "code",
   "execution_count": 29,
   "id": "7e87e245",
   "metadata": {},
   "outputs": [],
   "source": [
    "# Create a regression object.\n",
    "\n",
    "regression = LinearRegression()  # This is the regression object, which will be fit onto the training set."
   ]
  },
  {
   "cell_type": "code",
   "execution_count": 30,
   "id": "7ee0b9f6",
   "metadata": {},
   "outputs": [
    {
     "data": {
      "text/html": [
       "<style>#sk-container-id-1 {color: black;}#sk-container-id-1 pre{padding: 0;}#sk-container-id-1 div.sk-toggleable {background-color: white;}#sk-container-id-1 label.sk-toggleable__label {cursor: pointer;display: block;width: 100%;margin-bottom: 0;padding: 0.3em;box-sizing: border-box;text-align: center;}#sk-container-id-1 label.sk-toggleable__label-arrow:before {content: \"▸\";float: left;margin-right: 0.25em;color: #696969;}#sk-container-id-1 label.sk-toggleable__label-arrow:hover:before {color: black;}#sk-container-id-1 div.sk-estimator:hover label.sk-toggleable__label-arrow:before {color: black;}#sk-container-id-1 div.sk-toggleable__content {max-height: 0;max-width: 0;overflow: hidden;text-align: left;background-color: #f0f8ff;}#sk-container-id-1 div.sk-toggleable__content pre {margin: 0.2em;color: black;border-radius: 0.25em;background-color: #f0f8ff;}#sk-container-id-1 input.sk-toggleable__control:checked~div.sk-toggleable__content {max-height: 200px;max-width: 100%;overflow: auto;}#sk-container-id-1 input.sk-toggleable__control:checked~label.sk-toggleable__label-arrow:before {content: \"▾\";}#sk-container-id-1 div.sk-estimator input.sk-toggleable__control:checked~label.sk-toggleable__label {background-color: #d4ebff;}#sk-container-id-1 div.sk-label input.sk-toggleable__control:checked~label.sk-toggleable__label {background-color: #d4ebff;}#sk-container-id-1 input.sk-hidden--visually {border: 0;clip: rect(1px 1px 1px 1px);clip: rect(1px, 1px, 1px, 1px);height: 1px;margin: -1px;overflow: hidden;padding: 0;position: absolute;width: 1px;}#sk-container-id-1 div.sk-estimator {font-family: monospace;background-color: #f0f8ff;border: 1px dotted black;border-radius: 0.25em;box-sizing: border-box;margin-bottom: 0.5em;}#sk-container-id-1 div.sk-estimator:hover {background-color: #d4ebff;}#sk-container-id-1 div.sk-parallel-item::after {content: \"\";width: 100%;border-bottom: 1px solid gray;flex-grow: 1;}#sk-container-id-1 div.sk-label:hover label.sk-toggleable__label {background-color: #d4ebff;}#sk-container-id-1 div.sk-serial::before {content: \"\";position: absolute;border-left: 1px solid gray;box-sizing: border-box;top: 0;bottom: 0;left: 50%;z-index: 0;}#sk-container-id-1 div.sk-serial {display: flex;flex-direction: column;align-items: center;background-color: white;padding-right: 0.2em;padding-left: 0.2em;position: relative;}#sk-container-id-1 div.sk-item {position: relative;z-index: 1;}#sk-container-id-1 div.sk-parallel {display: flex;align-items: stretch;justify-content: center;background-color: white;position: relative;}#sk-container-id-1 div.sk-item::before, #sk-container-id-1 div.sk-parallel-item::before {content: \"\";position: absolute;border-left: 1px solid gray;box-sizing: border-box;top: 0;bottom: 0;left: 50%;z-index: -1;}#sk-container-id-1 div.sk-parallel-item {display: flex;flex-direction: column;z-index: 1;position: relative;background-color: white;}#sk-container-id-1 div.sk-parallel-item:first-child::after {align-self: flex-end;width: 50%;}#sk-container-id-1 div.sk-parallel-item:last-child::after {align-self: flex-start;width: 50%;}#sk-container-id-1 div.sk-parallel-item:only-child::after {width: 0;}#sk-container-id-1 div.sk-dashed-wrapped {border: 1px dashed gray;margin: 0 0.4em 0.5em 0.4em;box-sizing: border-box;padding-bottom: 0.4em;background-color: white;}#sk-container-id-1 div.sk-label label {font-family: monospace;font-weight: bold;display: inline-block;line-height: 1.2em;}#sk-container-id-1 div.sk-label-container {text-align: center;}#sk-container-id-1 div.sk-container {/* jupyter's `normalize.less` sets `[hidden] { display: none; }` but bootstrap.min.css set `[hidden] { display: none !important; }` so we also need the `!important` here to be able to override the default hidden behavior on the sphinx rendered scikit-learn.org. See: https://github.com/scikit-learn/scikit-learn/issues/21755 */display: inline-block !important;position: relative;}#sk-container-id-1 div.sk-text-repr-fallback {display: none;}</style><div id=\"sk-container-id-1\" class=\"sk-top-container\"><div class=\"sk-text-repr-fallback\"><pre>LinearRegression()</pre><b>In a Jupyter environment, please rerun this cell to show the HTML representation or trust the notebook. <br />On GitHub, the HTML representation is unable to render, please try loading this page with nbviewer.org.</b></div><div class=\"sk-container\" hidden><div class=\"sk-item\"><div class=\"sk-estimator sk-toggleable\"><input class=\"sk-toggleable__control sk-hidden--visually\" id=\"sk-estimator-id-1\" type=\"checkbox\" checked><label for=\"sk-estimator-id-1\" class=\"sk-toggleable__label sk-toggleable__label-arrow\">LinearRegression</label><div class=\"sk-toggleable__content\"><pre>LinearRegression()</pre></div></div></div></div></div>"
      ],
      "text/plain": [
       "LinearRegression()"
      ]
     },
     "execution_count": 30,
     "metadata": {},
     "output_type": "execute_result"
    }
   ],
   "source": [
    "# Fit the regression object onto the training set.\n",
    "\n",
    "regression.fit(X_train, y_train)"
   ]
  },
  {
   "cell_type": "markdown",
   "id": "00b480cf",
   "metadata": {},
   "source": [
    "##### 1. Check how the regression fits the training set"
   ]
  },
  {
   "cell_type": "code",
   "execution_count": 31,
   "id": "6dfd4ee0",
   "metadata": {},
   "outputs": [],
   "source": [
    "# Predicting the values of y using X.\n",
    "\n",
    "y_predicted_train = regression.predict(X_train) # This is predicting X_train!"
   ]
  },
  {
   "cell_type": "code",
   "execution_count": 32,
   "id": "ba6944a5",
   "metadata": {},
   "outputs": [],
   "source": [
    "rmse = mean_squared_error(y_train, y_predicted_train)\n",
    "r2 = r2_score(y_train, y_predicted_train)"
   ]
  },
  {
   "cell_type": "code",
   "execution_count": 33,
   "id": "08293bea",
   "metadata": {},
   "outputs": [
    {
     "data": {
      "image/png": "[encoded data removed]",
      "text/plain": [
       "<Figure size 640x480 with 1 Axes>"
      ]
     },
     "metadata": {},
     "output_type": "display_data"
    }
   ],
   "source": [
    "# Visualizing the training set results.\n",
    "\n",
    "plot_test = plt\n",
    "plot_test.scatter(X_train, y_train, color='green', s = 15)\n",
    "plot_test.plot(X_train, y_predicted_train, color='red', linewidth =3)\n",
    "plot_test.title('Number of deads and missings per incident vs. unidentified demographics (Test set)')\n",
    "plot_test.xlabel('Number of deads and missings per incident')\n",
    "plot_test.ylabel('Unidentified demographics')\n",
    "plot_test.show()"
   ]
  },
  {
   "cell_type": "markdown",
   "id": "9195cb66",
   "metadata": {},
   "source": [
    "#### Visually interpreted, the regression line appears to fit the data well. However, some values at the lower end of the distribution might deteriorate the model fit."
   ]
  },
  {
   "cell_type": "code",
   "execution_count": 34,
   "id": "bd51c868",
   "metadata": {},
   "outputs": [
    {
     "name": "stdout",
     "output_type": "stream",
     "text": [
      "Slope: [[0.78928122]]\n",
      "Mean squared error:  11.737311054080097\n",
      "R2 score:  0.8109277857445085\n"
     ]
    }
   ],
   "source": [
    "print('Slope:' ,regression.coef_)\n",
    "print('Mean squared error: ', rmse)\n",
    "print('R2 score: ', r2)"
   ]
  },
  {
   "cell_type": "markdown",
   "id": "b65a2ea7",
   "metadata": {},
   "source": [
    "##### 2. Compare how the regression fits the test set"
   ]
  },
  {
   "cell_type": "code",
   "execution_count": 35,
   "id": "e99fd1be",
   "metadata": {},
   "outputs": [],
   "source": [
    "# Predict the values of y using X.\n",
    "\n",
    "y_predicted = regression.predict(X_test)"
   ]
  },
  {
   "cell_type": "code",
   "execution_count": 36,
   "id": "6cb4a460",
   "metadata": {},
   "outputs": [
    {
     "data": {
      "image/png": "[encoded data removed]",
      "text/plain": [
       "<Figure size 640x480 with 1 Axes>"
      ]
     },
     "metadata": {},
     "output_type": "display_data"
    }
   ],
   "source": [
    "# Create a plot that shows the regression line from the model on the test set.\n",
    "\n",
    "plot_test = plt\n",
    "plot_test.scatter(X_test, y_test, color='gray', s = 15)\n",
    "plot_test.plot(X_test, y_predicted, color='red', linewidth =3)\n",
    "plot_test.title('Number of deads and missings per incident vs. unidentified demographics (Test set)')\n",
    "plot_test.xlabel('Number of deads and missings per incident')\n",
    "plot_test.ylabel('Unidentified demographics')\n",
    "plot_test.show()"
   ]
  },
  {
   "cell_type": "markdown",
   "id": "70029e0f",
   "metadata": {},
   "source": [
    "#### Visually interpreted, the regression line appears to fit the data well. However, some values at the lower end of the distribution might deteriorate the model fit."
   ]
  },
  {
   "cell_type": "code",
   "execution_count": 37,
   "id": "4b87b2de",
   "metadata": {},
   "outputs": [],
   "source": [
    "# Create objects that contain the model summary statistics.\n",
    "\n",
    "rmse = mean_squared_error(y_test, y_predicted) # This is the mean squared error\n",
    "r2 = r2_score(y_test, y_predicted) # This is the R2 score. "
   ]
  },
  {
   "cell_type": "code",
   "execution_count": 38,
   "id": "497e33da",
   "metadata": {},
   "outputs": [
    {
     "name": "stdout",
     "output_type": "stream",
     "text": [
      "Slope: [[0.78928122]]\n",
      "Mean squared error:  7.607369279747813\n",
      "R2 score:  0.8182358974659187\n"
     ]
    }
   ],
   "source": [
    "# Print the model summary statistics. This is where you evaluate the performance of the model.\n",
    "\n",
    "print('Slope:' ,regression.coef_)\n",
    "print('Mean squared error: ', rmse)\n",
    "print('R2 score: ', r2)"
   ]
  },
  {
   "cell_type": "markdown",
   "id": "18516936",
   "metadata": {},
   "source": [
    "#### Slope is positive: as the number of victims per incident rises, the number of unidentified victims rises, too.  \n",
    "\n",
    "#### Modelfit seems okay: MSE is rather small ( regression line passes fairly close to the observations), R2 is .81, indicating a moderate to good fit. "
   ]
  },
  {
   "cell_type": "code",
   "execution_count": 39,
   "id": "5b5a2c1e",
   "metadata": {},
   "outputs": [
    {
     "data": {
      "text/plain": [
       "array([[10.36630235],\n",
       "       [ 0.89492766],\n",
       "       [ 0.10564644],\n",
       "       ...,\n",
       "       [ 0.10564644],\n",
       "       [ 0.10564644],\n",
       "       [ 4.05205255]])"
      ]
     },
     "execution_count": 39,
     "metadata": {},
     "output_type": "execute_result"
    }
   ],
   "source": [
    "y_predicted"
   ]
  },
  {
   "cell_type": "code",
   "execution_count": 40,
   "id": "ce3bd005",
   "metadata": {},
   "outputs": [
    {
     "data": {
      "text/html": [
       "<div>\n",
       "<style scoped>\n",
       "    .dataframe tbody tr th:only-of-type {\n",
       "        vertical-align: middle;\n",
       "    }\n",
       "\n",
       "    .dataframe tbody tr th {\n",
       "        vertical-align: top;\n",
       "    }\n",
       "\n",
       "    .dataframe thead th {\n",
       "        text-align: right;\n",
       "    }\n",
       "</style>\n",
       "<table border=\"1\" class=\"dataframe\">\n",
       "  <thead>\n",
       "    <tr style=\"text-align: right;\">\n",
       "      <th></th>\n",
       "      <th>Actual</th>\n",
       "      <th>Predicted</th>\n",
       "    </tr>\n",
       "  </thead>\n",
       "  <tbody>\n",
       "    <tr>\n",
       "      <th>0</th>\n",
       "      <td>2</td>\n",
       "      <td>10.366302</td>\n",
       "    </tr>\n",
       "    <tr>\n",
       "      <th>1</th>\n",
       "      <td>1</td>\n",
       "      <td>0.894928</td>\n",
       "    </tr>\n",
       "    <tr>\n",
       "      <th>2</th>\n",
       "      <td>1</td>\n",
       "      <td>0.105646</td>\n",
       "    </tr>\n",
       "    <tr>\n",
       "      <th>3</th>\n",
       "      <td>0</td>\n",
       "      <td>0.105646</td>\n",
       "    </tr>\n",
       "    <tr>\n",
       "      <th>4</th>\n",
       "      <td>0</td>\n",
       "      <td>0.105646</td>\n",
       "    </tr>\n",
       "    <tr>\n",
       "      <th>5</th>\n",
       "      <td>0</td>\n",
       "      <td>0.105646</td>\n",
       "    </tr>\n",
       "    <tr>\n",
       "      <th>6</th>\n",
       "      <td>0</td>\n",
       "      <td>0.105646</td>\n",
       "    </tr>\n",
       "    <tr>\n",
       "      <th>7</th>\n",
       "      <td>0</td>\n",
       "      <td>1.684209</td>\n",
       "    </tr>\n",
       "    <tr>\n",
       "      <th>8</th>\n",
       "      <td>0</td>\n",
       "      <td>0.105646</td>\n",
       "    </tr>\n",
       "    <tr>\n",
       "      <th>9</th>\n",
       "      <td>0</td>\n",
       "      <td>0.105646</td>\n",
       "    </tr>\n",
       "    <tr>\n",
       "      <th>10</th>\n",
       "      <td>0</td>\n",
       "      <td>0.105646</td>\n",
       "    </tr>\n",
       "    <tr>\n",
       "      <th>11</th>\n",
       "      <td>1</td>\n",
       "      <td>0.105646</td>\n",
       "    </tr>\n",
       "    <tr>\n",
       "      <th>12</th>\n",
       "      <td>0</td>\n",
       "      <td>0.105646</td>\n",
       "    </tr>\n",
       "    <tr>\n",
       "      <th>13</th>\n",
       "      <td>0</td>\n",
       "      <td>0.894928</td>\n",
       "    </tr>\n",
       "    <tr>\n",
       "      <th>14</th>\n",
       "      <td>10</td>\n",
       "      <td>7.209177</td>\n",
       "    </tr>\n",
       "    <tr>\n",
       "      <th>15</th>\n",
       "      <td>0</td>\n",
       "      <td>0.105646</td>\n",
       "    </tr>\n",
       "    <tr>\n",
       "      <th>16</th>\n",
       "      <td>0</td>\n",
       "      <td>0.105646</td>\n",
       "    </tr>\n",
       "    <tr>\n",
       "      <th>17</th>\n",
       "      <td>0</td>\n",
       "      <td>0.105646</td>\n",
       "    </tr>\n",
       "    <tr>\n",
       "      <th>18</th>\n",
       "      <td>1</td>\n",
       "      <td>0.105646</td>\n",
       "    </tr>\n",
       "    <tr>\n",
       "      <th>19</th>\n",
       "      <td>0</td>\n",
       "      <td>0.105646</td>\n",
       "    </tr>\n",
       "    <tr>\n",
       "      <th>20</th>\n",
       "      <td>0</td>\n",
       "      <td>0.105646</td>\n",
       "    </tr>\n",
       "    <tr>\n",
       "      <th>21</th>\n",
       "      <td>0</td>\n",
       "      <td>0.105646</td>\n",
       "    </tr>\n",
       "    <tr>\n",
       "      <th>22</th>\n",
       "      <td>2</td>\n",
       "      <td>0.894928</td>\n",
       "    </tr>\n",
       "    <tr>\n",
       "      <th>23</th>\n",
       "      <td>0</td>\n",
       "      <td>0.105646</td>\n",
       "    </tr>\n",
       "    <tr>\n",
       "      <th>24</th>\n",
       "      <td>0</td>\n",
       "      <td>0.105646</td>\n",
       "    </tr>\n",
       "    <tr>\n",
       "      <th>25</th>\n",
       "      <td>0</td>\n",
       "      <td>0.105646</td>\n",
       "    </tr>\n",
       "    <tr>\n",
       "      <th>26</th>\n",
       "      <td>0</td>\n",
       "      <td>0.105646</td>\n",
       "    </tr>\n",
       "    <tr>\n",
       "      <th>27</th>\n",
       "      <td>0</td>\n",
       "      <td>0.105646</td>\n",
       "    </tr>\n",
       "    <tr>\n",
       "      <th>28</th>\n",
       "      <td>17</td>\n",
       "      <td>16.680552</td>\n",
       "    </tr>\n",
       "    <tr>\n",
       "      <th>29</th>\n",
       "      <td>0</td>\n",
       "      <td>0.105646</td>\n",
       "    </tr>\n",
       "  </tbody>\n",
       "</table>\n",
       "</div>"
      ],
      "text/plain": [
       "    Actual  Predicted\n",
       "0        2  10.366302\n",
       "1        1   0.894928\n",
       "2        1   0.105646\n",
       "3        0   0.105646\n",
       "4        0   0.105646\n",
       "5        0   0.105646\n",
       "6        0   0.105646\n",
       "7        0   1.684209\n",
       "8        0   0.105646\n",
       "9        0   0.105646\n",
       "10       0   0.105646\n",
       "11       1   0.105646\n",
       "12       0   0.105646\n",
       "13       0   0.894928\n",
       "14      10   7.209177\n",
       "15       0   0.105646\n",
       "16       0   0.105646\n",
       "17       0   0.105646\n",
       "18       1   0.105646\n",
       "19       0   0.105646\n",
       "20       0   0.105646\n",
       "21       0   0.105646\n",
       "22       2   0.894928\n",
       "23       0   0.105646\n",
       "24       0   0.105646\n",
       "25       0   0.105646\n",
       "26       0   0.105646\n",
       "27       0   0.105646\n",
       "28      17  16.680552\n",
       "29       0   0.105646"
      ]
     },
     "execution_count": 40,
     "metadata": {},
     "output_type": "execute_result"
    }
   ],
   "source": [
    "# Create a dataframe comparing the actual and predicted values of y.\n",
    "\n",
    "data = pd.DataFrame({'Actual': y_test.flatten(), 'Predicted': y_predicted.flatten()})\n",
    "data.head(30)"
   ]
  },
  {
   "cell_type": "markdown",
   "id": "9d53a4f5",
   "metadata": {},
   "source": [
    "#### Apart from the first pair, the values seem close to each other."
   ]
  },
  {
   "cell_type": "markdown",
   "id": "b65872fe",
   "metadata": {},
   "source": [
    "#### No indication of overfitting. R2 train and R2 test is very comparable.\n",
    "\n",
    "#### I would argue that the model performed well on the test set. However, I had to exclude inconsistent data with the number of overall identified victims was greater than the number of the total of victims. I checked some incidents in Excel, but there is no clear indication which values are true and no hints in the data documentation. This might have led to sample bias, because the excluded cases might be particulalrlythose well identified, or also unidentified, shaping the algorithm to being even more or less adequat. "
   ]
  }
 ],
 "metadata": {
  "kernelspec": {
   "display_name": "Python 3 (ipykernel)",
   "language": "python",
   "name": "python3"
  },
  "language_info": {
   "codemirror_mode": {
    "name": "ipython",
    "version": 3
   },
   "file_extension": ".py",
   "mimetype": "text/x-python",
   "name": "python",
   "nbconvert_exporter": "python",
   "pygments_lexer": "ipython3",
   "version": "3.11.4"
  },
  "varInspector": {
   "cols": {
    "lenName": 16,
    "lenType": 16,
    "lenVar": 40
   },
   "kernels_config": {
    "python": {
     "delete_cmd_postfix": "",
     "delete_cmd_prefix": "del ",
     "library": "var_list.py",
     "varRefreshCmd": "print(var_dic_list())"
    },
    "r": {
     "delete_cmd_postfix": ") ",
     "delete_cmd_prefix": "rm(",
     "library": "var_list.r",
     "varRefreshCmd": "cat(var_dic_list()) "
    }
   },
   "types_to_exclude": [
    "module",
    "function",
    "builtin_function_or_method",
    "instance",
    "_Feature"
   ],
   "window_display": false
  }
 },
 "nbformat": 4,
 "nbformat_minor": 5
}
