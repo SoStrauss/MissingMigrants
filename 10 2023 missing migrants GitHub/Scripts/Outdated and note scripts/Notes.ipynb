{
 "cells": [
  {
   "cell_type": "code",
   "execution_count": null,
   "id": "d7be4c20",
   "metadata": {},
   "outputs": [],
   "source": [
    "# Find locations to coordinates/ reversed geocoding\n",
    "\n",
    "def get_state_country(coordinates): \n",
    "    \"\"\"\n",
    "    Function takes in a list of coordinates and returns a list of associated State, Country\n",
    "\n",
    "    Args:\n",
    "        coordinates (list): list of tuples representing lat and long coordinates\n",
    "\n",
    "    Returns:\n",
    "        list: list of tuples representing State, Country\n",
    "    \"\"\"\n",
    "    state_country = []\n",
    "\n",
    "    for coordinate in coordinates:\n",
    "        url = \"https://nominatim.openstreetmap.org/reverse?format=json&lat={}&lon={}\".format(coordinate[0], coordinate[1])\n",
    "        response = requests.get(url)\n",
    "        response_json = json.loads(response.text)\n",
    "        state_country.append((response_json['address']['state'], response_json['address']['country']))\n",
    "\n",
    "    return state_country"
   ]
  },
  {
   "cell_type": "code",
   "execution_count": null,
   "id": "6756639f",
   "metadata": {},
   "outputs": [],
   "source": [
    "def get_state_country(df_mm):\n",
    "    state_country = []\n",
    "\n",
    "    for index, row in df_mm.iterrows():\n",
    "        url = \"https://nominatim.openstreetmap.org/reverse?format=json&lat={}&lon={}\".format(row['latitude'], row['longitude'])\n",
    "        response = requests.get(url)\n",
    "        response_json = json.loads(response.text)\n",
    "\n",
    "        # Print the JSON response to inspect its structure\n",
    "        print(response_json)\n",
    "        \n",
    "         # Add 'state' and 'country' columns to the DataFrame\n",
    "    df_mm['state'], df_mm['country'] = zip(*state_country)\n",
    "\n",
    "    \n",
    "    df_mm = pd.DataFrame(data)\n",
    "\n",
    "# Call the function to add \"state\" and \"country\" columns to the DataFrame\n",
    "get_state_country(df_mm)\n",
    "\n",
    "# Display the modified DataFrame\n",
    "print(df_mm)"
   ]
  }
 ],
 "metadata": {
  "kernelspec": {
   "display_name": "Python 3 (ipykernel)",
   "language": "python",
   "name": "python3"
  },
  "language_info": {
   "codemirror_mode": {
    "name": "ipython",
    "version": 3
   },
   "file_extension": ".py",
   "mimetype": "text/x-python",
   "name": "python",
   "nbconvert_exporter": "python",
   "pygments_lexer": "ipython3",
   "version": "3.11.4"
  },
  "varInspector": {
   "cols": {
    "lenName": 16,
    "lenType": 16,
    "lenVar": 40
   },
   "kernels_config": {
    "python": {
     "delete_cmd_postfix": "",
     "delete_cmd_prefix": "del ",
     "library": "var_list.py",
     "varRefreshCmd": "print(var_dic_list())"
    },
    "r": {
     "delete_cmd_postfix": ") ",
     "delete_cmd_prefix": "rm(",
     "library": "var_list.r",
     "varRefreshCmd": "cat(var_dic_list()) "
    }
   },
   "types_to_exclude": [
    "module",
    "function",
    "builtin_function_or_method",
    "instance",
    "_Feature"
   ],
   "window_display": false
  }
 },
 "nbformat": 4,
 "nbformat_minor": 5
}
